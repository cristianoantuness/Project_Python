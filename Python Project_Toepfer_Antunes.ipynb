{
 "cells": [
  {
   "cell_type": "markdown",
   "id": "ca3f1402",
   "metadata": {},
   "source": [
    "<p style=\"text-align: center; font-size: 200%; text-decoration: underline\"> WAM69 - Python Project </p>"
   ]
  },
  {
   "cell_type": "markdown",
   "id": "abf4acea",
   "metadata": {},
   "source": [
    "<p style=\"text-align: center; font-size: 300%\"> Effects of the COVID-19-Pandemic </p>\n",
    "<p style=\"text-align: center; font-size: 300%\"> on the Swiss Public Rail Transportation </p>\n",
    "<p style=\"text-align: center; font-size: 300%\"> </p>\n",
    "<p style=\"text-align: center; font-size: 200%\"> Cristiano André Antunes </p>\n",
    "<p style=\"text-align: center; font-size: 200%\"> Silvan Veit Toepfer </p>"
   ]
  },
  {
   "cell_type": "markdown",
   "id": "a715a1cc",
   "metadata": {},
   "source": [
    "# Introduction\n",
    "\n",
    "The COVID-19 pandemic had a major negative impact on the world’s economy in 2020 caused by major lockdowns (Gopinath, 2020). This led to supply and demand shocks and a ‘serious’ economic situation according to Minsch, Wehrli, & Salvi (2020, para 4.).\n",
    "The public transportation industry in Switzerland was confronted with a demand shock as soon as restrictions were put in place. Due to the public transportation’s nature of operating with non-storable tradeable services, an L-shaped growth evolution was predicted by Baldwin and Weder di Mauro (2020) in the early stages of the pandemic, which in retrospect proved to be true. Figure 1 depicts the major drop in total rail passengers that occurred at the beginning of the pandemic in Switzerland.\n"
   ]
  },
  {
   "cell_type": "markdown",
   "id": "ed99e3a9",
   "metadata": {},
   "source": [
    "#### Figure 1"
   ]
  },
  {
   "cell_type": "code",
   "execution_count": null,
   "id": "cb7f0f24",
   "metadata": {},
   "outputs": [],
   "source": []
  }
 ],
 "metadata": {
  "kernelspec": {
   "display_name": "Python 3 (ipykernel)",
   "language": "python",
   "name": "python3"
  },
  "language_info": {
   "codemirror_mode": {
    "name": "ipython",
    "version": 3
   },
   "file_extension": ".py",
   "mimetype": "text/x-python",
   "name": "python",
   "nbconvert_exporter": "python",
   "pygments_lexer": "ipython3",
   "version": "3.9.7"
  }
 },
 "nbformat": 4,
 "nbformat_minor": 5
}
