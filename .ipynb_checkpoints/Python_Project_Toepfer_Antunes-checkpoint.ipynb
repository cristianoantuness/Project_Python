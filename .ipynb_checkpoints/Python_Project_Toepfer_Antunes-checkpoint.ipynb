{
 "cells": [
  {
   "cell_type": "markdown",
   "id": "ca3f1402",
   "metadata": {},
   "source": [
    "<p style=\"text-align: center; font-size: 200%; text-decoration: underline\"> WAM69 - Python Project </p> <br />"
   ]
  },
  {
   "cell_type": "markdown",
   "id": "abf4acea",
   "metadata": {},
   "source": [
    "<p style=\"text-align: center; font-size: 300%\"> Effects of the COVID-19 Pandemic </p>\n",
    "<p style=\"text-align: center; font-size: 300%\"> on the Swiss Public Rail Transportation </p>\n",
    "<p style=\"text-align: center; font-size: 300%\"> </p>\n",
    "<p style=\"text-align: center; font-size: 200%\"> Cristiano André Antunes </p>\n",
    "<p style=\"text-align: center; font-size: 200%\"> Silvan Veit Toepfer </p>"
   ]
  },
  {
   "cell_type": "markdown",
   "id": "a715a1cc",
   "metadata": {},
   "source": [
    "# Introduction <br />\n",
    "\n",
    "<font size=\"4\"> <div style=\"text-align: justify\"> &emsp; &emsp; &emsp; The COVID-19 pandemic affected the world in many negative ways, due to the health hazards and major lockdowns imposed by governments. The resulted supply and demand shocks led to an overall serious economic situation. This also impacted the public transportation industry in Switzerland as soon as restrictions were put in place. Since the general public transportation industry operates with non-storable tradeable services, an L-shaped growth regression was predicted by Baldwin and Weder di Mauro (2020) at the early stages of the pandemic. Figure 1 proves said prediction by broadcasting a major drop in rail passengers at the beginning of the COVID-19 pandemic in Switzerland. </div> </font>"
   ]
  },
  {
   "cell_type": "markdown",
   "id": "ed99e3a9",
   "metadata": {},
   "source": [
    "#### Figure 1"
   ]
  },
  {
   "cell_type": "code",
   "execution_count": null,
   "id": "cb7f0f24",
   "metadata": {},
   "outputs": [],
   "source": [
    "#Source: Code inspired by Broda S. (2022), https://github.com/s-broda/IntroPython/blob/master/slides/week9.ipynb\n",
    "\n",
    "import pandas as pd\n",
    "import matplotlib.pyplot as plt\n",
    "\n",
    "data1 = pd.read_excel ('Data/CH_rail_passenger_yearly data since 2011.xlsx')\n",
    "\n",
    "x = list(data1['Year'])\n",
    "y = list(data1['Rail Passengers'])\n",
    "\n",
    "plt.rcParams[\"figure.figsize\"] = [12, 7]\n",
    "plt.rcParams[\"figure.autolayout\"] = True\n",
    "plt.plot (x, y, 'r-')\n",
    "plt.xlabel ('Year', fontsize=12)\n",
    "plt.ylabel ('Rail Passengers', fontsize=12)\n",
    "plt.title ('Yearly Rail Passengers in Switzerland, 2011 - 2021', fontsize=14)\n",
    "plt.legend (['$Switzerland$'])\n",
    "plt.xticks(x)\n",
    "plt.grid(axis=\"y\")\n",
    "plt.show()"
   ]
  },
  {
   "cell_type": "markdown",
   "id": "a396391a",
   "metadata": {},
   "source": [
    "*Source: [Eurostat](https://ec.europa.eu/eurostat/databrowser/view/rail_pa_total/default/table?lang=en) - RAIL_PA_TOTAL (extracted on 17/05/2022 23:00:02 from ESTAT, last updated: 12/05/2022 23:00)*"
   ]
  },
  {
   "cell_type": "markdown",
   "id": "7dd56d8f",
   "metadata": {},
   "source": [
    "# Comparison <br />\n",
    "<font size=\"4\"> <div style=\"text-align: justify\"> &emsp; &emsp; &emsp; To better understand the impact COVID-19 had on the Swiss public rail transportation demand, it makes sense to compare the impact on Switzerland to the impact on a similar European country such as Sweden. A comparison to Austria was initially intended, as Switzerland and Austria share a similar landmasses and population sizes. However, there was no reliable data available for Austria’s public rail passenger transportation system. Therefore, a comparison to Sweden was chosen and depicted in Figure 2, since both countries share a similar GDP per capita and only a small difference in population size is evident. Neighboring countries such as Germany, Italy, and France have lower GDP per capita altogether and larger population sizes, making them less suitable for a comparison. <br /> <br /> &emsp; &emsp; &emsp; At first sight, Figure 2 clearly shows that the Swiss rail passenger numbers decreased on a larger scale in relative terms compared to Sweden's. </div> </font>\n"
   ]
  },
  {
   "cell_type": "markdown",
   "id": "ba91d650",
   "metadata": {},
   "source": [
    "#### Figure 2"
   ]
  },
  {
   "cell_type": "code",
   "execution_count": null,
   "id": "36dc4727",
   "metadata": {},
   "outputs": [],
   "source": [
    "#Source: Code inspired by w3resource (2022), https://www.w3resource.com/graphics/matplotlib/basic/matplotlib-basic-exercise-5.php\n",
    "\n",
    "data2 = pd.read_excel ('Data/CH_rail_passenger_yearly data since 2011.xlsx')\n",
    "\n",
    "x = list(data2['Year'])\n",
    "y = list(data2['Per Capita CH'])\n",
    "z = list(data2['Per Capita SE'])\n",
    "\n",
    "plt.rcParams[\"figure.figsize\"] = [12, 7]\n",
    "plt.rcParams[\"figure.autolayout\"] = True\n",
    "plt.plot (x, y, 'r-', label='Switzerland')\n",
    "plt.plot (x, z, 'b-', label='Sweden')\n",
    "plt.xlabel ('Year', fontsize=12)\n",
    "plt.ylabel ('Rail Passengers per Capita', fontsize=12)\n",
    "plt.title ('Yearly Rail Passengers per Capita in CH and SE, 2011 - 2021', fontsize=14)\n",
    "plt.legend ()\n",
    "plt.ylim (ymin=0.00, ymax=0.07)\n",
    "plt.xticks(x)\n",
    "plt.grid(axis=\"y\")\n",
    "plt.show()"
   ]
  },
  {
   "cell_type": "markdown",
   "id": "fac7792a",
   "metadata": {},
   "source": [
    "*Source: [Eurostat](https://ec.europa.eu/eurostat/databrowser/view/rail_pa_total/default/table?lang=en) - RAIL_PA_TOTAL (extracted on 17/05/2022 23:00:02 from ESTAT, last updated: 12/05/2022 23:00)*"
   ]
  },
  {
   "cell_type": "markdown",
   "id": "4f28e4d7",
   "metadata": {},
   "source": [
    "# COVID-19's Impact on Swiss Railway Passengers <br />\n",
    "<font size=\"4\"> <div style=\"text-align: justify\"> &emsp; &emsp; &emsp; On March 16, 2020, the first partial lockdown was introduced by the Swiss government to protect all citizens from the Covid-19 pandemic. In Q1 and Q2 2020 there was a large drop in railway passenger demand as seen in Figure 3, although there were relatively low numbers of Covid-19 infections. This can be linked to the  restrictions imposed by the government at that time.  </div> </font>"
   ]
  },
  {
   "cell_type": "markdown",
   "id": "f708ddca",
   "metadata": {},
   "source": [
    "#### Figure 3"
   ]
  },
  {
   "cell_type": "code",
   "execution_count": null,
   "id": "c8f2630a",
   "metadata": {},
   "outputs": [],
   "source": [
    "#Source: Code inspired by Holtz Y. (2018), https://www.python-graph-gallery.com/line-chart-dual-y-axis-with-matplotlib\n",
    "\n",
    "# please first uncomment the next line if pyreadstat (needed for SPSS.sav file) is not installed yet\n",
    "#!conda install -c conda-forge -y pyreadstat\n",
    "\n",
    "import pyreadstat as pr\n",
    "\n",
    "data5, meta = pr.read_sav('Data/SPSS_rail_passengers_covid_infections_switzerland.sav')\n",
    "\n",
    "x = list(data5['Year_Quarter'])\n",
    "y1 = list(data5['Passengers'])\n",
    "y2 = list(data5['COVID'])\n",
    "\n",
    "COLOR_RAIL = \"#000000\"\n",
    "COLOR_COVID = \"#e9333e\"\n",
    "\n",
    "fig, ax1 = plt.subplots(figsize=(12, 7))\n",
    "# this code below creates a second Y-Axis maintaining the same X-Axis\n",
    "ax2 = ax1.twinx()\n",
    "ax1.plot(x, y1, color=COLOR_RAIL)\n",
    "ax2.plot(x, y2, 'r--')\n",
    "\n",
    "ax1.set_xlabel(\"Quarter\", fontsize=12)\n",
    "ax1.set_ylabel(\"Rail Passengers\", color=COLOR_RAIL, fontsize=12)\n",
    "\n",
    "ax2.set_ylabel(\"COVID-19 Infections\", color=COLOR_COVID, fontsize=12)\n",
    "ax2.tick_params(axis=\"y\", labelcolor=COLOR_COVID)\n",
    "plt.title(\"Quarterly Rail Passengers Compared to COVID-19 Infections in Switzerland, 2019 (Q4) - 2021 (Q4)\", fontsize=14)\n",
    "plt.show()"
   ]
  },
  {
   "cell_type": "markdown",
   "id": "03514b42",
   "metadata": {},
   "source": [
    "*Source: [Eurostat](https://ec.europa.eu/eurostat/databrowser/view/RAIL_PA_QUARTAL/default/table?lang=en&category=rail.rail_pa) - RAIL_PA_QUARTAL (extracted on 17/05/2022 23:00:02 from ESTAT, last updated: 23/05/2022 23:00)* <br />\n",
    "*Source: [Ourworldindata](https://ourworldindata.org/coronavirus) - Coronavirus Pandemic (COVID-19) (extracted on 17/05/2022 21:14:05 from Ourworldindata)*"
   ]
  },
  {
   "cell_type": "markdown",
   "id": "843a900a",
   "metadata": {},
   "source": [
    "# Pearson’s Correlation Coefficient <br />\n",
    "<font size=\"4\"> <div style=\"text-align: justify\"> &emsp; &emsp; &emsp; By calculating the Pearson's correlation coefficient, the relationship between the development of COVID-19 infections and the number of public rail passengers in Switzerland can be measured statistically. This calculation was executed in SPSS based on quarterly rail passengers in Switzerland as dependent variable and quarterly COVID-19 infections as independent variable. The timespan of the data ranges from Q4 2019 to Q4 2021. This process resulted in the following output and scatter plot in Figure 4 and Figure 5. </div> </font>"
   ]
  },
  {
   "cell_type": "markdown",
   "id": "49fb7dfd",
   "metadata": {},
   "source": [
    "#### Figure 4"
   ]
  },
  {
   "cell_type": "markdown",
   "id": "6560989d",
   "metadata": {},
   "source": [
    "<img src=\"Images/SPSSCorrelation.png\" alt=\"SPSS Pearson's Correlation\" style=\"display:block; margin-left: auto; margin-right: auto; width: auto;\">\n"
   ]
  },
  {
   "cell_type": "markdown",
   "id": "32c8caad",
   "metadata": {},
   "source": [
    "*Source: Computed in SPSS by authors. Data from [Eurostat](https://ec.europa.eu/eurostat/databrowser/view/RAIL_PA_QUARTAL/default/table?lang=en&category=rail.rail_pa) - RAIL_PA_QUARTAL (extracted on 17/05/2022 23:00:02 from ESTAT, last updated: 23/05/2022 23:00) and [Ourworldindata](https://ourworldindata.org/coronavirus) - Coronavirus Pandemic (COVID-19) (extracted on 17/05/2022 21:14:05 from Ourworldindata)*"
   ]
  },
  {
   "cell_type": "markdown",
   "id": "bb060325",
   "metadata": {},
   "source": [
    "#### Figure 5"
   ]
  },
  {
   "cell_type": "code",
   "execution_count": null,
   "id": "ac42cb87",
   "metadata": {},
   "outputs": [],
   "source": [
    "#Source: Code inspired by w3schools (2022), https://www.w3schools.com/python/matplotlib_scatter.asp\n",
    "\n",
    "data3, meta = pr.read_sav('Data/SPSS_rail_passengers_covid_infections_switzerland.sav')\n",
    "\n",
    "x = list(data3['COVID'])\n",
    "y = list(data3['Passengers'])\n",
    "n = list(data3['Year_Quarter'])\n",
    "\n",
    "plt.rcParams[\"figure.figsize\"] = [12, 7]\n",
    "plt.rcParams[\"figure.autolayout\"] = True\n",
    "plt.scatter(x, y)\n",
    "plt.xlabel ('COVID-19 Infections', fontsize=12)\n",
    "plt.ylabel ('Rail Passengers', fontsize=12)\n",
    "plt.title ('Scatter Plot of Quarterly Rail Passengers and COVID-19 Infections in CH, 2019 (Q4) – 2021 (Q4)', fontsize=14)\n",
    "plt.ylim (ymin=50000, ymax=140000)\n",
    "plt.grid(axis=\"x\")\n",
    "plt.grid(axis=\"y\")\n",
    "\n",
    "# this code below creates labels for the scatter points\n",
    "for i, txt in enumerate(n):\n",
    "    plt.annotate(txt, (x[i], y[i]))\n",
    "\n",
    "plt.show()"
   ]
  },
  {
   "cell_type": "markdown",
   "id": "87a1e71d",
   "metadata": {},
   "source": [
    "*Source: [Eurostat](https://ec.europa.eu/eurostat/databrowser/view/RAIL_PA_QUARTAL/default/table?lang=en&category=rail.rail_pa) - RAIL_PA_QUARTAL (extracted on 17/05/2022 23:00:02 from ESTAT, last updated: 23/05/2022 23:00)* <br />\n",
    "*Source: [Ourworldindata](https://ourworldindata.org/coronavirus) - Coronavirus Pandemic (COVID-19) (extracted on 17/05/2022 21:14:05 from Ourworldindata)*"
   ]
  },
  {
   "cell_type": "markdown",
   "id": "9f8332cb",
   "metadata": {},
   "source": [
    "<font size=\"4\"> <div style=\"text-align: justify\"> &emsp; &emsp; &emsp; The quarterly development of rail passengers and COVID-19 infections in Switzerland result in a weak negative correlation (r = -0.07, p = 0.858 > 0.05, based on only 9 available quarterly observations) and therefore stand in a linear relationship, although it is statistically insignificant. The null hypothesis H0, stating that there is no correlation between quarterly rail passengers and COVID-19 infections in Switzerland, can theoretically not be rejected since the computed p-value is larger than the error-risk α (0.05). This is not uncommon when only small sample sizes are available. <br /> <br /> &emsp; &emsp; &emsp; Nevertheless, the weak negative correlation of r = -0.07 between the quarterly rail passenger numbers and quarterly COVID-19 infections in Switzerland could still be interpreted to come from the initially strong but later decreasing impact the development of COVID-19 infections had on the demand for rail transportation in Switzerland. </div>\n"
   ]
  },
  {
   "cell_type": "markdown",
   "id": "aaf6432d",
   "metadata": {},
   "source": [
    "# Reflection on Python Project <br />\n",
    "\n",
    "<font size=\"4\"> <div style=\"text-align: justify\"> &emsp; &emsp; &emsp; At the beginning stages, we first had to spend quite some time studying all the lecture material before we could familiarize ourselves with GitHub, set up a GitHub Repo and finally start writing and coding our WAM69 Python Project in Jupyter Notebook. At that time, we wished we would have had more extensive knowledge about GitHub and working with datasets in Python prior to starting the project. Throughout the whole process of working on our project, we had to do an extensive amount of online research in order to be able to transfer our ideas into Python codes. Fortunately for us, there were more than enough sources available online to facilitate our ideas. \n",
    "For example, we struggled immensely with the process of reading, editing and plotting SPSS .sav files in Jupyter Notebook, until we found out that in order to import the missing module “pyreadstat”, an additional code that updates Pandas to version 1.4 was necessary beforehand. </div> </font>\n",
    "\n",
    "<font size=\"4\"> <div style=\"text-align: justify\"> &emsp; &emsp; &emsp; Fortunately, we already knew from the beginning, what general topic and layout our project would comprise. We looked forward to working with the theme and data surrounding rail transportation during the COVID-19 pandemic since we simultaneously worked with a similar topic in the ACM Economics Project module. In regard to group dynamics, it certainly helped that we, the authors, already knew each other and had already successfully worked together in the past. </div> </font>\n",
    "\n",
    "<font size=\"4\"> <div style=\"text-align: justify\"> &emsp; &emsp; &emsp; In the end, we ultimately achieved our set goals and are proud of how our final work turned out to be. We are now able to benefit from new competencies acquired during the WAM69 Python module and hope the quality of this Python project (which deserves a 6 ;-) ) reflects that.\n",
    " </div> </font>"
   ]
  },
  {
   "cell_type": "markdown",
   "id": "23ed4445",
   "metadata": {},
   "source": [
    "# <center>Bibliography</center>\n",
    "\n",
    "*The sources used as inspiration and guideline for codes are mentioned in the relevant coding frame.* \n",
    "\n",
    "Baldwin, R., & Weder di Mauro, B. (2020). Economics in the Time of COVID-19. CEPR Press. <br />\n",
    "\n",
    "Hannah Ritchie, Edouard Mathieu, Lucas Rodés-Guirao, Cameron Appel, Charlie Giattino, Esteban Ortiz-Ospina, Joe Hasell, Bobbie Macdonald, Diana Beltekian and Max Roser. (2020). Coronavirus Pandemic (COVID-19) [Online Resource]. OurWorldInData.org. Retrieved May 17, 2022, from: 'https://ourworldindata.org/coronavirus' <br />\n",
    "\n",
    "Passengers transported. (2022). European Commission - Eurostat. Retrieved May 17, 2022, from https://ec.europa.eu/eurostat/databrowser/view/rail_pa_total/default/table?lang=en <br />\n",
    "\n",
    "Passengers transported (detailed reporting only) - (quarterly data). (2022). European Commission - Eurostat. Retrieved May 17, 2022, from https://ec.europa.eu/eurostat/databrowser/view/RAIL_PA_QUARTAL/default/table?lang=en&category=rail.rail_pa"
   ]
  },
  {
   "cell_type": "markdown",
   "id": "100adecb",
   "metadata": {},
   "source": [
    "# <center>Declaration of Sole Authorship</center> \n",
    "<br />"
   ]
  },
  {
   "cell_type": "markdown",
   "id": "b02314c7",
   "metadata": {},
   "source": [
    "<img src=\"Images/SoleAuthorship.png\" alt=\"Declaration of Sole Authorship\" style=\"display:block; margin-left: auto; margin-right: auto; width: auto;\">"
   ]
  }
 ],
 "metadata": {
  "kernelspec": {
   "display_name": "Python 3 (ipykernel)",
   "language": "python",
   "name": "python3"
  },
  "language_info": {
   "codemirror_mode": {
    "name": "ipython",
    "version": 3
   },
   "file_extension": ".py",
   "mimetype": "text/x-python",
   "name": "python",
   "nbconvert_exporter": "python",
   "pygments_lexer": "ipython3",
   "version": "3.9.7"
  }
 },
 "nbformat": 4,
 "nbformat_minor": 5
}
